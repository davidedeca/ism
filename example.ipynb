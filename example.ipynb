{
 "cells": [
  {
   "cell_type": "code",
   "execution_count": 1,
   "metadata": {},
   "outputs": [],
   "source": [
    "%load_ext autoreload\n",
    "%autoreload 2\n",
    "\n",
    "import numpy as np\n",
    "import matplotlib.pyplot\n",
    "\n",
    "from utils.constants import *"
   ]
  },
  {
   "cell_type": "code",
   "execution_count": 14,
   "metadata": {},
   "outputs": [
    {
     "name": "stdout",
     "output_type": "stream",
     "text": [
      "('mean density', 8.166870827611523e-21, 'cm-3')\n",
      "('free fall time', 5.149880209031085, 'Myr')\n",
      "('sound speed', 9.085370369004915, 'km/s')\n",
      "('Jeans length', 27.864095888809974, 'pc')\n",
      "('Jeans mass', 28003.685830059105, 'Msun')\n",
      "('sigma', 359184.39017199434, 'cm/s')\n"
     ]
    }
   ],
   "source": [
    "import utils.ism_functions as ismf\n",
    "\n",
    "print('mean density', ismf.meandensity(1e5*Msun, 20*pc, shape='sphere'), 'cm-3')\n",
    "print('free fall time', ismf.freefalltime(100.), 'Myr')\n",
    "print('sound speed', ismf.csound(1e4), 'km/s')\n",
    "print('Jeans length', ismf.jeanslength(100., 1e3), 'pc')\n",
    "print('Jeans mass', ismf.jeansmass(100., 1e3), 'Msun')\n",
    "print('sigma', ismf.sigmaturb(1e5*Msun, 20*pc, 1.), 'cm/s')\n",
    "\n"
   ]
  },
  {
   "cell_type": "code",
   "execution_count": 11,
   "metadata": {},
   "outputs": [
    {
     "name": "stdout",
     "output_type": "stream",
     "text": [
      "('Lstar', 5551.88592961293, 'Lsun')\n",
      "('Mstar', 5.9863449676598135, 'Msun')\n",
      "('Rstar', 246292824758.4344, 'cm')\n"
     ]
    }
   ],
   "source": [
    "import star_utils.stellar_properties as sprop\n",
    "\n",
    "print('Lstar', sprop.luminosity_star(10.), 'Lsun')\n",
    "print('Mstar', sprop.mass_star(1e3), 'Msun')\n",
    "print('Rstar', sprop.radius_star(1e3*Lsun), 'cm')         "
   ]
  },
  {
   "cell_type": "code",
   "execution_count": 20,
   "metadata": {},
   "outputs": [
    {
     "name": "stdout",
     "output_type": "stream",
     "text": [
      "('Rstar', 4736436.941828642, 'Km')\n",
      "('Mstar', 27.905725834777883, 'Msun')\n",
      "('UV luminosity', 1.5341748279455844e+38, 'erg/s')\n",
      "('specific flux at 10 pc at 13.6eV', 7.152396033296826e-18, 9.206127996621863, 'erg/s/cm2/Hz)')\n"
     ]
    }
   ],
   "source": [
    "import star_utils.spectra as spectra\n",
    "\n",
    "star = spectra.star(Lstar=1e5*Lsun)\n",
    "\n",
    "print('Rstar', star.Rstar/1e5, 'Km')\n",
    "print('Mstar', star.Mstar/Msun, 'Msun')\n",
    "print('UV luminosity', star.L(v1=13.6*eV/h, v2=1000.*eV/h), 'erg/s')\n",
    "\n",
    "star.set_distance(10.*pc)\n",
    "print('specific flux at 10 pc at 13.6eV', star.Fv_cm2s(13.6*eV/h), 'erg/s/cm2/Hz)')\n"
   ]
  },
  {
   "cell_type": "code",
   "execution_count": null,
   "metadata": {},
   "outputs": [],
   "source": []
  }
 ],
 "metadata": {
  "kernelspec": {
   "display_name": "Python 2",
   "language": "python",
   "name": "python2"
  },
  "language_info": {
   "codemirror_mode": {
    "name": "ipython",
    "version": 2
   },
   "file_extension": ".py",
   "mimetype": "text/x-python",
   "name": "python",
   "nbconvert_exporter": "python",
   "pygments_lexer": "ipython2",
   "version": "2.7.15"
  }
 },
 "nbformat": 4,
 "nbformat_minor": 2
}
